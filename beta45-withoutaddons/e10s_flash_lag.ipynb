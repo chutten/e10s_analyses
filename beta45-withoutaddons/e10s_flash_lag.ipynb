{
 "cells": [
  {
   "cell_type": "markdown",
   "metadata": {},
   "source": [
    "### Flash Lag in Firefox Beta45ex2"
   ]
  },
  {
   "cell_type": "code",
   "execution_count": 1,
   "metadata": {
    "collapsed": false,
    "scrolled": false
   },
   "outputs": [
    {
     "name": "stdout",
     "output_type": "stream",
     "text": [
      "Unable to parse whitelist (/home/hadoop/anaconda2/lib/python2.7/site-packages/moztelemetry/bucket-whitelist.json). Assuming all histograms are acceptable.\n",
      "Populating the interactive namespace from numpy and matplotlib\n"
     ]
    }
   ],
   "source": [
    "import ujson as json\n",
    "import matplotlib.pyplot as plt\n",
    "import pandas as pd\n",
    "import numpy as np\n",
    "import plotly.plotly as py\n",
    "import IPython\n",
    "\n",
    "from moztelemetry import get_pings, get_pings_properties, get_one_ping_per_client, get_clients_history, Histogram\n",
    "from montecarlino import grouped_permutation_test\n",
    "\n",
    "%pylab inline\n",
    "IPython.core.pylabtools.figsize(16, 7)"
   ]
  },
  {
   "cell_type": "code",
   "execution_count": 2,
   "metadata": {
    "collapsed": true
   },
   "outputs": [],
   "source": [
    "def chi2_distance(xs, ys, eps = 1e-10, normalize = True):\n",
    "    histA = xs.sum(axis=0)\n",
    "    histB = ys.sum(axis=0)\n",
    "    \n",
    "    if normalize:\n",
    "        histA = histA/histA.sum()\n",
    "        histB = histB/histB.sum()\n",
    "    \n",
    "    d = 0.5 * np.sum([((a - b) ** 2) / (a + b + eps)\n",
    "        for (a, b) in zip(histA, histB)])\n",
    "\n",
    "    return d\n",
    "\n",
    "def median_diff(xs, ys):\n",
    "    return np.median(xs) - np.median(ys)\n",
    "\n",
    "def compare_histogram(histogram, e10s, none10s):\n",
    "    # Normalize individual histograms\n",
    "    e10s = e10s.map(lambda x: x/x.sum())\n",
    "    none10s = none10s.map(lambda x: x/x.sum())\n",
    "    \n",
    "    pvalue = grouped_permutation_test(chi2_distance, [e10s, none10s], num_samples=100)\n",
    "    \n",
    "    eTotal = e10s.sum()\n",
    "    nTotal = none10s.sum()\n",
    "        \n",
    "    eTotal = 100*eTotal/eTotal.sum()\n",
    "    nTotal = 100*nTotal/nTotal.sum()\n",
    "        \n",
    "    fig = plt.figure()\n",
    "    fig.subplots_adjust(hspace=0.3)\n",
    "        \n",
    "    ax = fig.add_subplot(1, 1, 1)\n",
    "    ax2 = ax.twinx()\n",
    "    width = 0.4\n",
    "    ylim = max(eTotal.max(), nTotal.max())\n",
    "        \n",
    "    eTotal.plot(kind=\"bar\", alpha=0.5, color=\"green\", label=\"e10s\", ax=ax, width=width, position=0, ylim=(0, ylim + 1))\n",
    "    nTotal.plot(kind=\"bar\", alpha=0.5, color=\"blue\", label=\"non e10s\", ax=ax2, width=width, position=1, grid=False, ylim=ax.get_ylim())\n",
    "        \n",
    "    ax.legend(ax.get_legend_handles_labels()[0] + ax2.get_legend_handles_labels()[0],\n",
    "              [\"e10s ({} samples\".format(len(e10s)), \"non e10s ({} samples)\".format(len(none10s))])\n",
    "\n",
    "    plt.title(histogram)\n",
    "    plt.xlabel(histogram)\n",
    "    plt.ylabel(\"Frequency %\")\n",
    "    plt.show()\n",
    "        \n",
    "    print \"The probability that the distributions for {} are differing by chance is {:.2f}.\".format(histogram, pvalue)\n",
    "\n",
    "def normalize_uptime_hour(frame):\n",
    "    frame = frame[frame[\"payload/simpleMeasurements/uptime\"] > 0]\n",
    "    frame = 60 * frame.apply(lambda x: x/frame[\"payload/simpleMeasurements/uptime\"]) # Metric per hour\n",
    "    frame.drop('payload/simpleMeasurements/uptime', axis=1, inplace=True)\n",
    "    return frame\n",
    "    \n",
    "def compare_count_histograms(pings, *histograms_names):\n",
    "    properties = histograms_names + (\"payload/simpleMeasurements/uptime\", \"e10s\")\n",
    "\n",
    "    frame = pd.DataFrame(get_pings_properties(pings, properties).collect())\n",
    "\n",
    "    e10s = frame[frame[\"e10s\"] == True]\n",
    "    e10s = normalize_uptime_hour(e10s)\n",
    "    \n",
    "    none10s = frame[frame[\"e10s\"] == False]\n",
    "    none10s = normalize_uptime_hour(none10s)\n",
    "    \n",
    "    for histogram in e10s.columns:\n",
    "        if histogram == \"e10s\" or histogram.endswith(\"_parent\") or histogram.endswith(\"_children\"):\n",
    "            continue\n",
    "            \n",
    "        compare_scalars(histogram + \" per hour\", e10s[histogram].dropna(), none10s[histogram].dropna())\n",
    "\n",
    "        \n",
    "def compare_histograms(pings, *histogram_names):\n",
    "    frame = pd.DataFrame(get_pings_properties(pings, histogram_names + (\"e10s\",) , with_processes=True).collect())\n",
    "    compare_df(frame)\n",
    "    \n",
    "def compare_df(frame):\n",
    "    e10s = frame[frame[\"e10s\"] == True]\n",
    "    none10s = frame[frame[\"e10s\"] == False]\n",
    "    for histogram in none10s.columns:\n",
    "        if histogram == \"e10s\" or histogram.endswith(\"_parent\") or histogram.endswith(\"_children\"):\n",
    "            continue\n",
    "            \n",
    "        has_children = np.sum(e10s[histogram + \"_children\"].notnull()) > 0\n",
    "        has_parent = np.sum(e10s[histogram + \"_parent\"].notnull()) > 0\n",
    "        \n",
    "        if has_children and has_parent:\n",
    "            compare_histogram(histogram + \" (parent + children)\", e10s[histogram].dropna(), none10s[histogram].dropna())\n",
    "            \n",
    "        if has_parent:\n",
    "            compare_histogram(histogram + \" (parent)\", e10s[histogram + \"_parent\"].dropna(), none10s[histogram].dropna())\n",
    "            \n",
    "        if has_children:\n",
    "            compare_histogram(histogram + \" (children)\", e10s[histogram + \"_children\"].dropna(), none10s[histogram].dropna())\n",
    "                    \n",
    "\n",
    "                \n",
    "def compare_scalars(metric, *groups):\n",
    "    print \"Median difference in {} is {:.2f}, ({:.2f}, {:.2f}).\".format(metric,\n",
    "                                                                        median_diff(*groups), \n",
    "                                                                        np.median(groups[0]),\n",
    "                                                                        np.median(groups[1]))\n",
    "    print \"The probablity of this effect being purely by chance is {:.2f}.\". \\\n",
    "        format(grouped_permutation_test(median_diff, groups, num_samples=10000))"
   ]
  },
  {
   "cell_type": "code",
   "execution_count": 3,
   "metadata": {
    "collapsed": false
   },
   "outputs": [
    {
     "data": {
      "text/plain": [
       "64"
      ]
     },
     "execution_count": 3,
     "metadata": {},
     "output_type": "execute_result"
    }
   ],
   "source": [
    "sc.defaultParallelism"
   ]
  },
  {
   "cell_type": "code",
   "execution_count": 4,
   "metadata": {
    "collapsed": false
   },
   "outputs": [],
   "source": [
    "dataset = sqlContext.read.load(\"s3://telemetry-parquet/e10s-experiment/e10s-beta45-withoutaddons@experiments.mozilla.org/generationDate=20160217\", \"parquet\")"
   ]
  },
  {
   "cell_type": "code",
   "execution_count": 5,
   "metadata": {
    "collapsed": true
   },
   "outputs": [],
   "source": [
    "sampled = dataset.filter(dataset.sampleId <= 60)"
   ]
  },
  {
   "cell_type": "code",
   "execution_count": 6,
   "metadata": {
    "collapsed": true
   },
   "outputs": [],
   "source": [
    "def row_2_ping(row):\n",
    "    ping = {\"payload\": {\"simpleMeasurements\": json.loads(row.simpleMeasurements),\n",
    "                        \"histograms\": json.loads(row.histograms),\n",
    "                        \"keyedHistograms\": json.loads(row.keyedHistograms),\n",
    "                        \"childPayloads\": json.loads(row.childPayloads),\n",
    "                        \"threadHangStats\": json.loads(row.threadHangStats)},\n",
    "           \"e10s\": True if row.experimentBranch == \"experiment-no-addons\" else False}\n",
    "    return ping"
   ]
  },
  {
   "cell_type": "code",
   "execution_count": 7,
   "metadata": {
    "collapsed": true
   },
   "outputs": [],
   "source": [
    "subset = sampled.rdd.filter(lambda r: r.experimentBranch in [\"experiment-no-addons\", \"control-no-addons\"]).map(row_2_ping)"
   ]
  },
  {
   "cell_type": "code",
   "execution_count": 8,
   "metadata": {
    "collapsed": false
   },
   "outputs": [],
   "source": [
    "def aggregate_flash(ping, hist_name):\n",
    "    plugins = ping[\"payload\"].get(\"keyedHistograms\", {}).get(hist_name, {})\n",
    "    flashes = map(lambda (name, hist): Histogram(hist_name, hist), filter(lambda (name, hist): name.startswith(\"Shockwave Flash\"), plugins.iteritems()))\n",
    "    ping[hist_name] = reduce(lambda x, y: x + y, filter(lambda h: h is not None, flashes)) if len(flashes) else None\n",
    "\n",
    "    ping[hist_name + \"_parent\"] = None\n",
    "    \n",
    "    ping[hist_name + \"_children\"] = None\n",
    "    for payload in ping[\"payload\"].get(\"childPayloads\", []):\n",
    "        plugins = payload.get(\"keyedHistograms\", {}).get(hist_name, {})\n",
    "        hists = map(lambda (name, hist): Histogram(hist_name, hist), filter(lambda (name, hist): name.startswith(\"Shockwave Flash\"), plugins.iteritems()))\n",
    "        reduced = reduce(lambda x, y: x + y, filter(lambda h: h is not None, hists)) if len(hists) else None\n",
    "        if reduced is None:\n",
    "            continue\n",
    "        if ping[hist_name + \"_children\"] is not None:\n",
    "            ping[hist_name + \"_children\"] += reduced\n",
    "        else:\n",
    "            ping[hist_name + \"_children\"] = reduced\n",
    "\n",
    "def aggregate_flashes(ping):\n",
    "    aggregate_flash(ping, \"BLOCKED_ON_PLUGIN_INSTANCE_INIT_MS\")\n",
    "    aggregate_flash(ping, \"BLOCKED_ON_PLUGIN_INSTANCE_DESTROY_MS\")\n",
    "    return ping\n",
    "    \n",
    "flashed = subset.map(aggregate_flashes)"
   ]
  },
  {
   "cell_type": "code",
   "execution_count": 9,
   "metadata": {
    "collapsed": false
   },
   "outputs": [],
   "source": [
    "def only_flash_props(ping):\n",
    "    flash_props = [\n",
    "        \"e10s\",\n",
    "        \"BLOCKED_ON_PLUGIN_INSTANCE_INIT_MS\",\n",
    "        \"BLOCKED_ON_PLUGIN_INSTANCE_INIT_MS_children\",\n",
    "        \"BLOCKED_ON_PLUGIN_INSTANCE_INIT_MS_parent\",\n",
    "        \"BLOCKED_ON_PLUGIN_INSTANCE_DESTROY_MS\",\n",
    "        \"BLOCKED_ON_PLUGIN_INSTANCE_DESTROY_MS_children\",\n",
    "        \"BLOCKED_ON_PLUGIN_INSTANCE_DESTROY_MS_parent\",\n",
    "        ]\n",
    "    return {k:(v.get_value() if isinstance(v, Histogram) else v) for (k,v) in ping.iteritems() if k in flash_props}\n",
    "    \n",
    "flash_frame = pd.DataFrame(flashed.map(only_flash_props).collect())"
   ]
  },
  {
   "cell_type": "code",
   "execution_count": 10,
   "metadata": {
    "collapsed": false
   },
   "outputs": [
    {
     "data": {
      "image/png": "[encoded data removed]",
      "text/plain": [
       "<matplotlib.figure.Figure at 0x7f15265ad790>"
      ]
     },
     "metadata": {},
     "output_type": "display_data"
    },
    {
     "name": "stdout",
     "output_type": "stream",
     "text": [
      "The probability that the distributions for BLOCKED_ON_PLUGIN_INSTANCE_DESTROY_MS (children) are differing by chance is 0.00.\n"
     ]
    },
    {
     "data": {
      "image/png": "[encoded data removed]",
      "text/plain": [
       "<matplotlib.figure.Figure at 0x7f150d280890>"
      ]
     },
     "metadata": {},
     "output_type": "display_data"
    },
    {
     "name": "stdout",
     "output_type": "stream",
     "text": [
      "The probability that the distributions for BLOCKED_ON_PLUGIN_INSTANCE_INIT_MS (children) are differing by chance is 0.02.\n"
     ]
    }
   ],
   "source": [
    "compare_df(flash_frame)"
   ]
  }
 ],
 "metadata": {
  "kernelspec": {
   "display_name": "Python 2",
   "language": "python",
   "name": "python2"
  },
  "language_info": {
   "codemirror_mode": {
    "name": "ipython",
    "version": 2
   },
   "file_extension": ".py",
   "mimetype": "text/x-python",
   "name": "python",
   "nbconvert_exporter": "python",
   "pygments_lexer": "ipython2",
   "version": "2.7.11"
  }
 },
 "nbformat": 4,
 "nbformat_minor": 0
}
